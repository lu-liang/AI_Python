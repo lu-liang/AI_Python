{
 "cells": [
  {
   "cell_type": "markdown",
   "metadata": {},
   "source": [
    "# CNN 卷积神经网络\n",
    "\n",
    "\n",
    "## CNN的结构：\n",
    "卷积神经网络CNN的结构一般包含这几个层：\n",
    "- 输入层：用于数据的输入\n",
    "- 卷积层：使用卷积核进行特征提取和特征映射\n",
    "- 激励层：由于卷积也是一种线性运算，因此需要增加非线性映射\n",
    "- 池化层：进行下采样，对特征图稀疏处理，减少数据运算量。\n",
    "- 全连接层：通常在CNN的尾部进行重新拟合，减少特征信息的损失\n",
    "- 输出层：用于输出结果\n",
    "\n",
    "当然中间还可以使用一些其他的功能层:\n",
    "\n",
    "- 归一化层（Batch Normalization）：在CNN中对特征的归一化\n",
    "- 切分层：对某些（图片）数据的进行分区域的单独学习\n",
    "- 融合层：对独立进行特征学习的分支进行融合\n",
    "\n",
    "## CNN主要层次示例\n",
    "\n",
    "### 应用CNN进行汽车图像识别用例\n",
    "![CNN_1.png](CNN_1.jpeg)\n",
    "\n",
    "\n",
    "### 通过卷积计算进行局部特征提取\n",
    "![CNN_2.png](CNN_2.jpeg)\n",
    "![CNN_3.png](CNN_3.jpeg)\n",
    "![CNN_4.png](CNN_4.jpeg)\n",
    "![CNN_5.png](CNN_5.jpeg)\n",
    "\n",
    "\n",
    "### 池化示例（最大化池化）\n",
    "![CNN_6.png](CNN_6.jpeg)\n",
    "\n",
    "\n",
    "### CNN算法汇总\n",
    "![CNN_7.png](CNN_7.jpeg)\n"
   ]
  },
  {
   "cell_type": "markdown",
   "metadata": {},
   "source": [
    "----------"
   ]
  },
  {
   "cell_type": "markdown",
   "metadata": {},
   "source": [
    "## 例1. 使用Tensorflow 实现CNN\n",
    "\n",
    "使用一个简单的CNN网络结构如下，括号里边表示tensor经过本层后的输出shape：\n",
    "\n",
    "- 输入层（28 x 28 x 1）\n",
    "- 卷积层1（28 x 28 x 32）\n",
    "- pooling层1（14 x 14 x 32）\n",
    "- 卷积层2（14 x 14 x 64）\n",
    "- pooling层2（7 x 7 x 64）\n",
    "- 全连接层（1 x 1024）\n",
    "- softmax层（10）"
   ]
  },
  {
   "cell_type": "code",
   "execution_count": 69,
   "metadata": {},
   "outputs": [],
   "source": [
    "\"\"\"Functions for downloading and reading MNIST data.\"\"\"\n",
    "from __future__ import absolute_import\n",
    "from __future__ import division\n",
    "from __future__ import print_function\n",
    "\n",
    "# pylint: disable=unused-import\n",
    "import gzip\n",
    "import os\n",
    "import tempfile\n",
    "\n",
    "import numpy\n",
    "from six.moves import urllib\n",
    "from six.moves import xrange  # pylint: disable=redefined-builtin\n",
    "import tensorflow as tf\n",
    "from tensorflow.contrib.learn.python.learn.datasets.mnist import read_data_sets\n",
    "# pylint: enable=unused-import"
   ]
  },
  {
   "cell_type": "code",
   "execution_count": 70,
   "metadata": {},
   "outputs": [
    {
     "name": "stdout",
     "output_type": "stream",
     "text": [
      "WARNING:tensorflow:From <ipython-input-70-7195988f0f48>:56: read_data_sets (from tensorflow.contrib.learn.python.learn.datasets.mnist) is deprecated and will be removed in a future version.\n",
      "Instructions for updating:\n",
      "Please use alternatives such as official/mnist/dataset.py from tensorflow/models.\n",
      "WARNING:tensorflow:From /Users/liang/anaconda3/envs/tensorflow/lib/python3.6/site-packages/tensorflow/contrib/learn/python/learn/datasets/mnist.py:260: maybe_download (from tensorflow.contrib.learn.python.learn.datasets.base) is deprecated and will be removed in a future version.\n",
      "Instructions for updating:\n",
      "Please write your own downloading logic.\n",
      "WARNING:tensorflow:From /Users/liang/anaconda3/envs/tensorflow/lib/python3.6/site-packages/tensorflow/contrib/learn/python/learn/datasets/base.py:252: _internal_retry.<locals>.wrap.<locals>.wrapped_fn (from tensorflow.contrib.learn.python.learn.datasets.base) is deprecated and will be removed in a future version.\n",
      "Instructions for updating:\n",
      "Please use urllib or similar directly.\n",
      "Successfully downloaded train-images-idx3-ubyte.gz 9912422 bytes.\n",
      "WARNING:tensorflow:From /Users/liang/anaconda3/envs/tensorflow/lib/python3.6/site-packages/tensorflow/contrib/learn/python/learn/datasets/mnist.py:262: extract_images (from tensorflow.contrib.learn.python.learn.datasets.mnist) is deprecated and will be removed in a future version.\n",
      "Instructions for updating:\n",
      "Please use tf.data to implement this functionality.\n",
      "Extracting MNIST_data/train-images-idx3-ubyte.gz\n",
      "Successfully downloaded train-labels-idx1-ubyte.gz 28881 bytes.\n",
      "WARNING:tensorflow:From /Users/liang/anaconda3/envs/tensorflow/lib/python3.6/site-packages/tensorflow/contrib/learn/python/learn/datasets/mnist.py:267: extract_labels (from tensorflow.contrib.learn.python.learn.datasets.mnist) is deprecated and will be removed in a future version.\n",
      "Instructions for updating:\n",
      "Please use tf.data to implement this functionality.\n",
      "Extracting MNIST_data/train-labels-idx1-ubyte.gz\n",
      "WARNING:tensorflow:From /Users/liang/anaconda3/envs/tensorflow/lib/python3.6/site-packages/tensorflow/contrib/learn/python/learn/datasets/mnist.py:110: dense_to_one_hot (from tensorflow.contrib.learn.python.learn.datasets.mnist) is deprecated and will be removed in a future version.\n",
      "Instructions for updating:\n",
      "Please use tf.one_hot on tensors.\n",
      "Successfully downloaded t10k-images-idx3-ubyte.gz 1648877 bytes.\n",
      "Extracting MNIST_data/t10k-images-idx3-ubyte.gz\n",
      "Successfully downloaded t10k-labels-idx1-ubyte.gz 4542 bytes.\n",
      "Extracting MNIST_data/t10k-labels-idx1-ubyte.gz\n",
      "WARNING:tensorflow:From /Users/liang/anaconda3/envs/tensorflow/lib/python3.6/site-packages/tensorflow/contrib/learn/python/learn/datasets/mnist.py:290: DataSet.__init__ (from tensorflow.contrib.learn.python.learn.datasets.mnist) is deprecated and will be removed in a future version.\n",
      "Instructions for updating:\n",
      "Please use alternatives such as official/mnist/dataset.py from tensorflow/models.\n",
      "WARNING:tensorflow:From /Users/liang/anaconda3/envs/tensorflow/lib/python3.6/site-packages/tensorflow/python/util/tf_should_use.py:118: initialize_all_variables (from tensorflow.python.ops.variables) is deprecated and will be removed after 2017-03-02.\n",
      "Instructions for updating:\n",
      "Use `tf.global_variables_initializer` instead.\n",
      "step 0, train_accuracy 0.04\n",
      "step 100, train_accuracy 0.8\n",
      "step 200, train_accuracy 0.92\n",
      "step 300, train_accuracy 0.84\n",
      "step 400, train_accuracy 0.92\n",
      "step 500, train_accuracy 0.96\n",
      "step 600, train_accuracy 0.84\n",
      "step 700, train_accuracy 0.96\n",
      "step 800, train_accuracy 0.96\n",
      "step 900, train_accuracy 0.88\n",
      "step 1000, train_accuracy 0.96\n",
      "step 1100, train_accuracy 0.96\n",
      "step 1200, train_accuracy 0.96\n",
      "step 1300, train_accuracy 0.94\n",
      "step 1400, train_accuracy 0.92\n",
      "step 1500, train_accuracy 0.98\n",
      "step 1600, train_accuracy 0.96\n",
      "step 1700, train_accuracy 0.94\n",
      "step 1800, train_accuracy 0.98\n",
      "step 1900, train_accuracy 0.94\n",
      "step 2000, train_accuracy 0.96\n",
      "step 2100, train_accuracy 0.94\n",
      "step 2200, train_accuracy 1\n",
      "step 2300, train_accuracy 0.98\n",
      "step 2400, train_accuracy 0.98\n",
      "step 2500, train_accuracy 1\n",
      "step 2600, train_accuracy 0.94\n",
      "step 2700, train_accuracy 1\n",
      "step 2800, train_accuracy 0.98\n",
      "step 2900, train_accuracy 1\n",
      "step 3000, train_accuracy 0.96\n",
      "step 3100, train_accuracy 0.96\n",
      "step 3200, train_accuracy 1\n",
      "step 3300, train_accuracy 0.98\n",
      "step 3400, train_accuracy 0.98\n",
      "step 3500, train_accuracy 1\n",
      "step 3600, train_accuracy 1\n",
      "step 3700, train_accuracy 0.98\n",
      "step 3800, train_accuracy 0.98\n",
      "step 3900, train_accuracy 1\n",
      "step 4000, train_accuracy 0.98\n",
      "step 4100, train_accuracy 0.98\n",
      "step 4200, train_accuracy 1\n",
      "step 4300, train_accuracy 0.98\n",
      "step 4400, train_accuracy 0.98\n",
      "step 4500, train_accuracy 0.98\n",
      "step 4600, train_accuracy 1\n",
      "step 4700, train_accuracy 1\n",
      "step 4800, train_accuracy 0.94\n",
      "step 4900, train_accuracy 1\n",
      "test accuracy 0.9877\n",
      "running time is %g s\n"
     ]
    },
    {
     "ename": "TypeError",
     "evalue": "unsupported operand type(s) for %: 'NoneType' and 'float'",
     "output_type": "error",
     "traceback": [
      "\u001b[0;31m---------------------------------------------------------------------------\u001b[0m",
      "\u001b[0;31mTypeError\u001b[0m                                 Traceback (most recent call last)",
      "\u001b[0;32m<ipython-input-70-7195988f0f48>\u001b[0m in \u001b[0;36m<module>\u001b[0;34m()\u001b[0m\n\u001b[1;32m    173\u001b[0m \u001b[0;34m\u001b[0m\u001b[0m\n\u001b[1;32m    174\u001b[0m \u001b[0mend\u001b[0m \u001b[0;34m=\u001b[0m \u001b[0mtime\u001b[0m\u001b[0;34m.\u001b[0m\u001b[0mclock\u001b[0m\u001b[0;34m(\u001b[0m\u001b[0;34m)\u001b[0m \u001b[0;31m#计算程序结束时间\u001b[0m\u001b[0;34m\u001b[0m\u001b[0m\n\u001b[0;32m--> 175\u001b[0;31m \u001b[0mprint\u001b[0m\u001b[0;34m(\u001b[0m\u001b[0;34m\"running time is %g s\"\u001b[0m\u001b[0;34m)\u001b[0m \u001b[0;34m%\u001b[0m \u001b[0;34m(\u001b[0m\u001b[0mend\u001b[0m\u001b[0;34m-\u001b[0m\u001b[0mstart\u001b[0m\u001b[0;34m)\u001b[0m\u001b[0;34m\u001b[0m\u001b[0m\n\u001b[0m",
      "\u001b[0;31mTypeError\u001b[0m: unsupported operand type(s) for %: 'NoneType' and 'float'"
     ]
    }
   ],
   "source": [
    "#coding:utf-8\n",
    "import time\n",
    "\n",
    "\"\"\"\n",
    "权重初始化\n",
    "初始化为一个接近0的很小的正数\n",
    "\"\"\"\n",
    "def weight_variable(shape):\n",
    "    initial = tf.truncated_normal(shape, stddev = 0.1)\n",
    "    return tf.Variable(initial)\n",
    "\n",
    "def bias_variable(shape):\n",
    "    initial = tf.constant(0.1, shape = shape)\n",
    "    return tf.Variable(initial)\n",
    "\n",
    "\"\"\"\n",
    "卷积和池化，使用卷积步长为1（stride size）,0边距（padding size）\n",
    "池化用简单传统的2x2大小的模板做max pooling\n",
    "\"\"\"\n",
    "def conv2d(x, W):\n",
    "    \"\"\"\n",
    "    tf.nn.conv2d功能：给定4维的input和filter，计算出一个2维的卷积结果\n",
    "    前几个参数分别是input, filter, strides, padding, use_cudnn_on_gpu, ...\n",
    "    input   的格式要求为一个张量，[batch, in_height, in_width, in_channels],批次数，图像高度，图像宽度，通道数\n",
    "    filter  的格式为[filter_height, filter_width, in_channels, out_channels]，滤波器高度，宽度，输入通道数，输出通道数\n",
    "    strides 一个长为4的list. 表示每次卷积以后在input中滑动的距离\n",
    "    padding 有SAME和VALID两种选项，表示是否要保留不完全卷积的部分。如果是SAME，则保留\n",
    "    use_cudnn_on_gpu 是否使用cudnn加速。默认是True\n",
    "    \n",
    "    # tf.nn.conv2d(input, filter, strides, padding, use_cudnn_on_gpu=None, data_format=None, name=None)\n",
    "    # x(input)  : [batch, in_height, in_width, in_channels]\n",
    "    # W(filter) : [filter_height, filter_width, in_channels, out_channels]\n",
    "    # strides   : The stride of the sliding window for each dimension of input.\n",
    "    #             For the most common case of the same horizontal and vertices strides, strides = [1, stride, stride, 1]\n",
    "    \"\"\"\n",
    "    return tf.nn.conv2d(x, W, strides=[1, 1, 1, 1], padding = 'SAME')\n",
    "    \n",
    "def max_pool_2x2(x):\n",
    "    \"\"\"\n",
    "    tf.nn.max_pool 进行最大值池化操作,而avg_pool 则进行平均值池化操作\n",
    "    几个参数分别是：value, ksize, strides, padding,\n",
    "    value:  一个4D张量，格式为[batch, height, width, channels]，与conv2d中input格式一样\n",
    "    ksize:  长为4的list,表示池化窗口的尺寸\n",
    "    strides: 窗口的滑动值，与conv2d中的一样\n",
    "    padding: 与conv2d中用法一样。\n",
    "    \n",
    "    # tf.nn.max_pool(value, ksize, strides, padding, data_format='NHWC', name=None)\n",
    "    # x(value)              : [batch, height, width, channels]\n",
    "    # ksize(pool大小)        : A list of ints that has length >= 4. The size of the window for each dimension of the input tensor.\n",
    "    # strides(pool滑动大小)   : A list of ints that has length >= 4. The stride of the sliding window for each dimension of the input tensor.\n",
    "    \"\"\"\n",
    "    return tf.nn.max_pool(x, ksize = [1, 2, 2, 1],\n",
    "                          strides = [1, 2, 2, 1], padding = 'SAME')\n",
    "    \n",
    "start = time.clock() #计算开始时间\n",
    "mnist = read_data_sets(\"MNIST_data/\", one_hot=True) #MNIST数据输入\n",
    "\n",
    "\"\"\"\n",
    "第一层 卷积层\n",
    "\n",
    "x_image(batch, 28, 28, 1) -> h_pool1(batch, 14, 14, 32)\n",
    "\n",
    "# 卷积核(filter)的尺寸是5*5, 通道数为1，输出通道为32，即feature map 数目为32 \n",
    "# 又因为strides=[1,1,1,1] 所以单个通道的输出尺寸应该跟输入图像一样。即总的卷积输出应该为 28*28*32\n",
    "# 也就是单个通道输出为28*28，共有32个通道,共有?个批次\n",
    "# 在池化阶段，ksize=[1,2,2,1] 那么卷积结果经过池化以后的结果，其尺寸应该是 14*14*32\n",
    "\n",
    "\"\"\"\n",
    "\n",
    "x = tf.placeholder(tf.float32,[None, 784])\n",
    "x_image = tf.reshape(x, [-1, 28, 28, 1]) #最后一维代表通道数目，如果是rgb则为3 \n",
    "W_conv1 = weight_variable([5, 5, 1, 32])\n",
    "b_conv1 = bias_variable([32])\n",
    "\n",
    "h_conv1 = tf.nn.relu(conv2d(x_image, W_conv1) + b_conv1)\n",
    "# x_image -> [batch, in_height, in_width, in_channels]\n",
    "#            [batch, 28, 28, 1]\n",
    "# W_conv1 -> [filter_height, filter_width, in_channels, out_channels]\n",
    "#            [5, 5, 1, 32]\n",
    "# output  -> [batch, out_height, out_width, out_channels]\n",
    "#            [batch, 28, 28, 32]\n",
    "h_pool1 = max_pool_2x2(h_conv1)\n",
    "# h_conv1 -> [batch, in_height, in_weight, in_channels]\n",
    "#            [batch, 28, 28, 32]\n",
    "# output  -> [batch, out_height, out_weight, out_channels]\n",
    "#            [batch, 14, 14, 32]\n",
    "\n",
    "\"\"\"\n",
    "第二层 卷积层\n",
    "\n",
    "h_pool1(batch, 14, 14, 32) -> h_pool2(batch, 7, 7, 64)\n",
    "\n",
    "# 卷积核5*5，输入通道为32，输出通道为64。 \n",
    "# 卷积前图像的尺寸为 14*14*32， 卷积后为 14*14*64\n",
    "# 池化后，输出的图像尺寸为 7*7*64\n",
    "\n",
    "\"\"\"\n",
    "W_conv2 = weight_variable([5, 5, 32, 64])\n",
    "b_conv2 = bias_variable([64])\n",
    "\n",
    "h_conv2 = tf.nn.relu(conv2d(h_pool1, W_conv2) + b_conv2)\n",
    "# h_pool1 -> [batch, 14, 14, 32]\n",
    "# W_conv2 -> [5, 5, 32, 64]\n",
    "# output  -> [batch, 14, 14, 64]\n",
    "h_pool2 = max_pool_2x2(h_conv2)\n",
    "# h_conv2 -> [batch, 14, 14, 64]\n",
    "# output  -> [batch, 7, 7, 64]\n",
    "\n",
    "\"\"\"\n",
    "第三层 全连接层\n",
    "\n",
    "h_pool2(batch, 7, 7, 64) -> h_fc1(1, 1024)\n",
    "\n",
    "第三层是个全连接层,输入维数7*7*64, 输出维数为1024\n",
    "\n",
    "\"\"\"\n",
    "W_fc1 = weight_variable([7 * 7 * 64, 1024])\n",
    "b_fc1 = bias_variable([1024])\n",
    "\n",
    "h_pool2_flat = tf.reshape(h_pool2, [-1, 7 * 7 * 64])\n",
    "h_fc1 = tf.nn.relu(tf.matmul(h_pool2_flat, W_fc1) + b_fc1)\n",
    "\n",
    "\"\"\"\n",
    "Dropout\n",
    "\n",
    "h_fc1 -> h_fc1_drop, 训练中启用，测试中关闭\n",
    "\n",
    "#这里使用了drop out,即随机安排一些cell输出值为0，可以防止过拟合\n",
    "\"\"\"\n",
    "keep_prob = tf.placeholder(\"float\")\n",
    "h_fc1_drop = tf.nn.dropout(h_fc1, keep_prob)\n",
    "\n",
    "\n",
    "\"\"\"\n",
    "第四层 Softmax输出层\n",
    "\n",
    "# 输入1024维，输出10维，也就是具体的0~9分类\n",
    "\n",
    "\"\"\"\n",
    "W_fc2 = weight_variable([1024, 10])\n",
    "b_fc2 = bias_variable([10])\n",
    "\n",
    "y_conv = tf.nn.softmax(tf.matmul(h_fc1_drop, W_fc2) + b_fc2)\n",
    "\n",
    "\n",
    "\"\"\"\n",
    "训练和评估模型\n",
    "\n",
    "ADAM优化器来做梯度最速下降,feed_dict中加入参数keep_prob控制dropout比例\n",
    "\"\"\"\n",
    "y_ = tf.placeholder(\"float\", [None, 10])\n",
    "cross_entropy = -tf.reduce_sum(y_ * tf.log(y_conv)) #计算交叉熵\n",
    "train_step = tf.train.AdamOptimizer(1e-4).minimize(cross_entropy) #使用adam优化器来以0.0001的学习率来进行微调\n",
    "correct_prediction = tf.equal(tf.argmax(y_conv,1), tf.argmax(y_,1)) #判断预测标签和实际标签是否匹配\n",
    "accuracy = tf.reduce_mean(tf.cast(correct_prediction,\"float\"))\n",
    "\n",
    "sess = tf.Session() #启动创建的模型\n",
    "sess.run(tf.initialize_all_variables()) #旧版本\n",
    "#sess.run(tf.global_variables_initializer()) #初始化变量\n",
    "\n",
    "for i in range(5000): #开始训练模型，循环训练5000次\n",
    "    batch = mnist.train.next_batch(50) #batch大小设置为50\n",
    "    if i % 100 == 0:\n",
    "        train_accuracy = accuracy.eval(session = sess,\n",
    "                                       feed_dict = {x:batch[0], y_:batch[1], keep_prob:1.0})\n",
    "        print(\"step %d, train_accuracy %g\" %(i, train_accuracy))\n",
    "    train_step.run(session = sess, feed_dict = {x:batch[0], y_:batch[1],\n",
    "                   keep_prob:0.5}) #神经元输出保持不变的概率 keep_prob 为0.5\n",
    "\n",
    "print(\"test accuracy %g\" %accuracy.eval(session = sess,\n",
    "      feed_dict = {x:mnist.test.images, y_:mnist.test.labels,\n",
    "                   keep_prob:1.0})) #神经元输出保持不变的概率 keep_prob 为 1，即不变，一直保持输出\n",
    "\n",
    "end = time.clock() #计算程序结束时间\n",
    "print(\"running time is {} seconds\".format(end-start))"
   ]
  },
  {
   "cell_type": "markdown",
   "metadata": {},
   "source": [
    "------"
   ]
  },
  {
   "cell_type": "markdown",
   "metadata": {},
   "source": [
    "## 例2. 使用tensorflow搭建卷积神经网络来实现sklearn库中的手写数字识别\n",
    "\n",
    "卷积神经网络结构如下图所示：\n",
    "![CNN_8.png](CNN_8.png)"
   ]
  },
  {
   "cell_type": "code",
   "execution_count": 36,
   "metadata": {},
   "outputs": [],
   "source": [
    "import tensorflow as tf\n",
    "\n",
    "from sklearn.datasets import load_digits\n",
    "import numpy as np\n",
    "import pprint as pp"
   ]
  },
  {
   "cell_type": "code",
   "execution_count": 37,
   "metadata": {},
   "outputs": [
    {
     "name": "stdout",
     "output_type": "stream",
     "text": [
      "array([[ 0.,  0.,  5., ...,  0.,  0.,  0.],\n",
      "       [ 0.,  0.,  0., ..., 10.,  0.,  0.],\n",
      "       [ 0.,  0.,  0., ..., 16.,  9.,  0.],\n",
      "       ...,\n",
      "       [ 0.,  0.,  1., ...,  6.,  0.,  0.],\n",
      "       [ 0.,  0.,  2., ..., 12.,  0.,  0.],\n",
      "       [ 0.,  0., 10., ..., 12.,  1.,  0.]], dtype=float32)\n",
      "array([[0.],\n",
      "       [1.],\n",
      "       [2.],\n",
      "       ...,\n",
      "       [8.],\n",
      "       [9.],\n",
      "       [8.]], dtype=float32)\n",
      "(1797, 64)\n",
      "(1797, 1)\n"
     ]
    }
   ],
   "source": [
    "# load traing data \n",
    "digits = load_digits()\n",
    "X_data = digits.data.astype(np.float32)\n",
    "Y_data = digits.target.astype(np.float32).reshape(-1,1)\n",
    "pp.pprint(X_data)\n",
    "pp.pprint(Y_data)\n",
    "print(X_data.shape)\n",
    "print(Y_data.shape)"
   ]
  },
  {
   "cell_type": "code",
   "execution_count": 38,
   "metadata": {},
   "outputs": [
    {
     "name": "stdout",
     "output_type": "stream",
     "text": [
      "array([[0.    , 0.    , 0.3125, ..., 0.    , 0.    , 0.    ],\n",
      "       [0.    , 0.    , 0.    , ..., 0.625 , 0.    , 0.    ],\n",
      "       [0.    , 0.    , 0.    , ..., 1.    , 0.5625, 0.    ],\n",
      "       ...,\n",
      "       [0.    , 0.    , 0.0625, ..., 0.375 , 0.    , 0.    ],\n",
      "       [0.    , 0.    , 0.125 , ..., 0.75  , 0.    , 0.    ],\n",
      "       [0.    , 0.    , 0.625 , ..., 0.75  , 0.0625, 0.    ]],\n",
      "      dtype=float32)\n"
     ]
    }
   ],
   "source": [
    "# transform data \n",
    "from sklearn.preprocessing import MinMaxScaler\n",
    "\n",
    "scaler = MinMaxScaler()\n",
    "X_data = scaler.fit_transform(X_data)\n",
    "pp.pprint(X_data)"
   ]
  },
  {
   "cell_type": "code",
   "execution_count": 39,
   "metadata": {},
   "outputs": [
    {
     "name": "stdout",
     "output_type": "stream",
     "text": [
      "matrix([[1., 0., 0., ..., 0., 0., 0.],\n",
      "        [0., 1., 0., ..., 0., 0., 0.],\n",
      "        [0., 0., 1., ..., 0., 0., 0.],\n",
      "        ...,\n",
      "        [0., 0., 0., ..., 0., 1., 0.],\n",
      "        [0., 0., 0., ..., 0., 0., 1.],\n",
      "        [0., 0., 0., ..., 0., 1., 0.]])\n"
     ]
    }
   ],
   "source": [
    "from sklearn.preprocessing import OneHotEncoder\n",
    "Y = OneHotEncoder().fit_transform(Y_data).todense() #one-hot编码\n",
    "pp.pprint(Y)"
   ]
  },
  {
   "cell_type": "code",
   "execution_count": 40,
   "metadata": {},
   "outputs": [],
   "source": [
    "# 转换为图片的格式 （batch，height，width，channels）\n",
    "X = X_data.reshape(-1,8,8,1)\n",
    "\n",
    "batch_size = 8 # 使用MBGD算法，设定batch_size为8"
   ]
  },
  {
   "cell_type": "code",
   "execution_count": 41,
   "metadata": {},
   "outputs": [],
   "source": [
    "def generatebatch(X,Y,n_examples, batch_size):\n",
    "    for batch_i in range(n_examples // batch_size):\n",
    "        start = batch_i*batch_size\n",
    "        end = start + batch_size\n",
    "        batch_xs = X[start:end]\n",
    "        batch_ys = Y[start:end]\n",
    "        yield batch_xs, batch_ys # 生成每一个batch"
   ]
  },
  {
   "cell_type": "code",
   "execution_count": 42,
   "metadata": {},
   "outputs": [],
   "source": [
    "tf.reset_default_graph()\n",
    "# 输入层\n",
    "tf_X = tf.placeholder(tf.float32,[None,8,8,1])\n",
    "tf_Y = tf.placeholder(tf.float32,[None,10])"
   ]
  },
  {
   "cell_type": "code",
   "execution_count": 43,
   "metadata": {},
   "outputs": [],
   "source": [
    "# 卷积层+激活层\n",
    "conv_filter_w1 = tf.Variable(tf.random_normal([3, 3, 1, 10]))\n",
    "conv_filter_b1 =  tf.Variable(tf.random_normal([10]))\n",
    "relu_feature_maps1 = tf.nn.relu(\\\n",
    "                tf.nn.conv2d(tf_X, conv_filter_w1,strides=[1, 1, 1, 1], padding='SAME') + conv_filter_b1)"
   ]
  },
  {
   "cell_type": "code",
   "execution_count": 44,
   "metadata": {},
   "outputs": [
    {
     "name": "stdout",
     "output_type": "stream",
     "text": [
      "Tensor(\"MaxPool:0\", shape=(?, 4, 4, 10), dtype=float32)\n"
     ]
    }
   ],
   "source": [
    "# 池化层\n",
    "max_pool1 = tf.nn.max_pool(relu_feature_maps1,ksize=[1,3,3,1],strides=[1,2,2,1],padding='SAME')\n",
    "\n",
    "print(max_pool1)"
   ]
  },
  {
   "cell_type": "code",
   "execution_count": 45,
   "metadata": {},
   "outputs": [
    {
     "name": "stdout",
     "output_type": "stream",
     "text": [
      "Tensor(\"add_1:0\", shape=(?, 4, 4, 5), dtype=float32)\n"
     ]
    }
   ],
   "source": [
    "# 卷积层\n",
    "conv_filter_w2 = tf.Variable(tf.random_normal([3, 3, 10, 5]))\n",
    "conv_filter_b2 =  tf.Variable(tf.random_normal([5]))\n",
    "conv_out2 = tf.nn.conv2d(relu_feature_maps1, conv_filter_w2,strides=[1, 2, 2, 1], padding='SAME') + conv_filter_b2\n",
    "print(conv_out2)"
   ]
  },
  {
   "cell_type": "code",
   "execution_count": 46,
   "metadata": {},
   "outputs": [
    {
     "name": "stdout",
     "output_type": "stream",
     "text": [
      "Tensor(\"batchnorm/add_1:0\", shape=(?, 4, 4, 5), dtype=float32)\n"
     ]
    }
   ],
   "source": [
    "# BN归一化层+激活层 \n",
    "batch_mean, batch_var = tf.nn.moments(conv_out2, [0, 1, 2], keep_dims=True)\n",
    "shift = tf.Variable(tf.zeros([5]))\n",
    "scale = tf.Variable(tf.ones([5]))\n",
    "epsilon = 1e-3\n",
    "BN_out = tf.nn.batch_normalization(conv_out2, batch_mean, batch_var, shift, scale, epsilon)\n",
    "print(BN_out)\n",
    "relu_BN_maps2 = tf.nn.relu(BN_out)"
   ]
  },
  {
   "cell_type": "code",
   "execution_count": 47,
   "metadata": {},
   "outputs": [
    {
     "name": "stdout",
     "output_type": "stream",
     "text": [
      "Tensor(\"MaxPool_1:0\", shape=(?, 2, 2, 5), dtype=float32)\n"
     ]
    }
   ],
   "source": [
    "# 池化层\n",
    "max_pool2 = tf.nn.max_pool(relu_BN_maps2,ksize=[1,3,3,1],strides=[1,2,2,1],padding='SAME')\n",
    "print(max_pool2)"
   ]
  },
  {
   "cell_type": "code",
   "execution_count": 48,
   "metadata": {},
   "outputs": [],
   "source": [
    "# 将特征图进行展开\n",
    "max_pool2_flat = tf.reshape(max_pool2, [-1, 2*2*5])"
   ]
  },
  {
   "cell_type": "code",
   "execution_count": 49,
   "metadata": {},
   "outputs": [],
   "source": [
    "# 全连接层\n",
    "fc_w1 = tf.Variable(tf.random_normal([2*2*5,50]))\n",
    "fc_b1 =  tf.Variable(tf.random_normal([50]))\n",
    "fc_out1 = tf.nn.relu(tf.matmul(max_pool2_flat, fc_w1) + fc_b1)"
   ]
  },
  {
   "cell_type": "code",
   "execution_count": 50,
   "metadata": {},
   "outputs": [],
   "source": [
    "# 输出层\n",
    "out_w1 = tf.Variable(tf.random_normal([50,10]))\n",
    "out_b1 = tf.Variable(tf.random_normal([10]))\n",
    "pred = tf.nn.softmax(tf.matmul(fc_out1,out_w1)+out_b1)"
   ]
  },
  {
   "cell_type": "code",
   "execution_count": 51,
   "metadata": {},
   "outputs": [],
   "source": [
    "loss = -tf.reduce_mean(tf_Y*tf.log(tf.clip_by_value(pred,1e-11,1.0)))"
   ]
  },
  {
   "cell_type": "code",
   "execution_count": 52,
   "metadata": {},
   "outputs": [],
   "source": [
    "train_step = tf.train.AdamOptimizer(1e-3).minimize(loss)"
   ]
  },
  {
   "cell_type": "code",
   "execution_count": 53,
   "metadata": {},
   "outputs": [],
   "source": [
    "y_pred = tf.arg_max(pred,1)\n",
    "bool_pred = tf.equal(tf.arg_max(tf_Y,1),y_pred)"
   ]
  },
  {
   "cell_type": "code",
   "execution_count": 54,
   "metadata": {},
   "outputs": [],
   "source": [
    "accuracy = tf.reduce_mean(tf.cast(bool_pred,tf.float32)) # 准确率"
   ]
  },
  {
   "cell_type": "code",
   "execution_count": 56,
   "metadata": {},
   "outputs": [
    {
     "name": "stdout",
     "output_type": "stream",
     "text": [
      "0 0.2097941\n",
      "100 0.9933222\n",
      "200 0.99833053\n",
      "300 0.99833053\n",
      "400 0.99833053\n",
      "500 0.99833053\n",
      "600 0.99777406\n",
      "700 0.99888706\n",
      "800 0.99833053\n",
      "900 0.9972176\n",
      "[0 1 2 ... 8 9 8]\n",
      "0.9994435169727324\n"
     ]
    }
   ],
   "source": [
    "with tf.Session() as sess:\n",
    "    sess.run(tf.global_variables_initializer())\n",
    "    for epoch in range(1000): # 迭代1000个周期\n",
    "        for batch_xs,batch_ys in generatebatch(X,Y,Y.shape[0],batch_size): # 每个周期进行MBGD算法\n",
    "            sess.run(train_step,feed_dict={tf_X:batch_xs,tf_Y:batch_ys})\n",
    "        if(epoch%100==0):\n",
    "            res = sess.run(accuracy,feed_dict={tf_X:X,tf_Y:Y})\n",
    "            print(epoch,res)\n",
    "    res_ypred = y_pred.eval(feed_dict={tf_X:X,tf_Y:Y}).flatten() # 只能预测一批样本，不能预测一个样本\n",
    "    print(res_ypred)\n",
    "    \n",
    "    from sklearn.metrics import accuracy_score\n",
    "    print(accuracy_score(Y_data,res_ypred.reshape(-1,1)))"
   ]
  },
  {
   "cell_type": "code",
   "execution_count": 57,
   "metadata": {},
   "outputs": [
    {
     "name": "stdout",
     "output_type": "stream",
     "text": [
      "0.9994435169727324\n"
     ]
    }
   ],
   "source": [
    "from sklearn.metrics import accuracy_score\n",
    "print(accuracy_score(Y_data,res_ypred.reshape(-1,1)))"
   ]
  },
  {
   "cell_type": "markdown",
   "metadata": {},
   "source": [
    "-------"
   ]
  },
  {
   "cell_type": "markdown",
   "metadata": {},
   "source": [
    "# 例3. 使用keras实现CNN"
   ]
  },
  {
   "cell_type": "code",
   "execution_count": 59,
   "metadata": {},
   "outputs": [
    {
     "name": "stdout",
     "output_type": "stream",
     "text": [
      "Downloading data from https://s3.amazonaws.com/img-datasets/mnist.npz\n",
      "11493376/11490434 [==============================] - 18s 2us/step\n"
     ]
    }
   ],
   "source": [
    "import numpy as np\n",
    "np.random.seed(2017)  #为了复现\n",
    "\n",
    "from __future__ import print_function\n",
    "from keras.datasets import mnist\n",
    "from keras.utils import np_utils\n",
    "from keras.models import Sequential\n",
    "from keras.layers import Dense, Activation, Conv2D, MaxPooling2D, Flatten\n",
    "from keras.optimizers import Adam\n",
    "\n",
    "(X_train, y_train), (X_test, y_test) = mnist.load_data()\n",
    "\n",
    "#x标准化到0-1  y使用one-hot\n",
    "X_train = X_train.reshape(-1, 28,28, 1)/255.\n",
    "X_test = X_test.reshape(-1, 28,28, 1)/255.\n",
    "y_train = np_utils.to_categorical(y_train, num_classes=10)\n",
    "y_test = np_utils.to_categorical(y_test, num_classes=10)"
   ]
  },
  {
   "cell_type": "code",
   "execution_count": 60,
   "metadata": {},
   "outputs": [
    {
     "name": "stderr",
     "output_type": "stream",
     "text": [
      "/Users/liang/anaconda3/envs/tensorflow/lib/python3.6/site-packages/ipykernel_launcher.py:6: UserWarning: Update your `MaxPooling2D` call to the Keras 2 API: `MaxPooling2D(pool_size=(2, 2), strides=(2, 2), padding=\"same\")`\n",
      "  \n"
     ]
    }
   ],
   "source": [
    "#建立模型 使用卷积层\n",
    "model = Sequential()\n",
    "#输出的维度 “same”代表保留边界处的卷积结果 “valid”代表只进行有效的卷积，即对边界数据不处理   height & width & channels \n",
    "model.add(Conv2D(32, (5, 5),padding='same', activation='relu', input_shape=(28, 28, 1)))\n",
    "#池化层 pool_size下采样因子 strides步长\n",
    "model.add(MaxPooling2D(pool_size=(2, 2),strides=(2, 2),border_mode='same'))\n",
    "#断开的神经元的比例\n",
    "#model.add(Dropout(0.25))\n",
    "model.add(Conv2D(64, (5, 5), activation='relu'))\n",
    "model.add(MaxPooling2D(pool_size=(2, 2)))\n",
    "#Flatten层用来将输入“压平”，即把多维的输入一维化，常用在从卷积层到全连接层的过渡\n",
    "model.add(Flatten())\n",
    "model.add(Dense(1024, activation='relu'))\n",
    "model.add(Dense(10, activation='softmax'))"
   ]
  },
  {
   "cell_type": "code",
   "execution_count": 61,
   "metadata": {},
   "outputs": [
    {
     "name": "stdout",
     "output_type": "stream",
     "text": [
      "Epoch 1/1\n",
      "60000/60000 [==============================] - 156s 3ms/step - loss: 0.2214 - acc: 0.9379\n",
      "10000/10000 [==============================] - 7s 727us/step\n",
      "\n",
      " test loss:  0.06769796474035829\n",
      "\n",
      " test accuracy:  0.979\n"
     ]
    }
   ],
   "source": [
    "#定义优化器\n",
    "adam = Adam(lr=1e-4)\n",
    "\n",
    "#定义loss和评价函数 metrics评价可为cost，accuracy，score\n",
    "model.compile(optimizer=adam,\n",
    "              loss='categorical_crossentropy',\n",
    "              metrics=['accuracy'])\n",
    "\n",
    "#训练模型 epoch训练次数 batch_size 每批处理32个\n",
    "model.fit(X_train, y_train, epochs=1, batch_size=32)\n",
    "\n",
    "#返回测试的指标\n",
    "loss, accuracy = model.evaluate(X_test, y_test)\n",
    "print('\\n test loss: ', loss)\n",
    "print('\\n test accuracy: ', accuracy)\n",
    "\n",
    "#预测\n",
    "y_pre = model.predict(X_test)\n",
    "#转换成数字-每列概率最大的位置\n",
    "y_num=[np.argmax(x) for x in y_pre]"
   ]
  },
  {
   "cell_type": "code",
   "execution_count": null,
   "metadata": {},
   "outputs": [],
   "source": []
  }
 ],
 "metadata": {
  "kernelspec": {
   "display_name": "Tensorflow Python 3",
   "language": "python",
   "name": "tensorflowpython3"
  },
  "language_info": {
   "codemirror_mode": {
    "name": "ipython",
    "version": 3
   },
   "file_extension": ".py",
   "mimetype": "text/x-python",
   "name": "python",
   "nbconvert_exporter": "python",
   "pygments_lexer": "ipython3",
   "version": "3.6.4"
  }
 },
 "nbformat": 4,
 "nbformat_minor": 2
}
