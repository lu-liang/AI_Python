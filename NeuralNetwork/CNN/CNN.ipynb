{
 "cells": [
  {
   "cell_type": "markdown",
   "metadata": {},
   "source": [
    "# CNN 卷积神经网络\n",
    "\n",
    "\n",
    "## CNN的结构：\n",
    "卷积神经网络CNN的结构一般包含这几个层：\n",
    "- 输入层：用于数据的输入\n",
    "- 卷积层：使用卷积核进行特征提取和特征映射\n",
    "- 激励层：由于卷积也是一种线性运算，因此需要增加非线性映射\n",
    "- 池化层：进行下采样，对特征图稀疏处理，减少数据运算量。\n",
    "- 全连接层：通常在CNN的尾部进行重新拟合，减少特征信息的损失\n",
    "- 输出层：用于输出结果\n",
    "\n",
    "当然中间还可以使用一些其他的功能层:\n",
    "\n",
    "- 归一化层（Batch Normalization）：在CNN中对特征的归一化\n",
    "- 切分层：对某些（图片）数据的进行分区域的单独学习\n",
    "- 融合层：对独立进行特征学习的分支进行融合\n",
    "\n",
    "## CNN主要层次示例\n",
    "\n",
    "### 应用CNN进行汽车图像识别用例\n",
    "![CNN_1.png](CNN_1.jpeg)\n",
    "\n",
    "\n",
    "### 通过卷积计算进行局部特征提取\n",
    "![CNN_2.png](CNN_2.jpeg)\n",
    "![CNN_3.png](CNN_3.jpeg)\n",
    "![CNN_4.png](CNN_4.jpeg)\n",
    "![CNN_5.png](CNN_5.jpeg)\n",
    "\n",
    "\n",
    "### 池化示例（最大化池化）\n",
    "![CNN_6.png](CNN_6.jpeg)\n",
    "\n",
    "\n",
    "### CNN算法汇总\n",
    "![CNN_7.png](CNN_7.jpeg)\n",
    "\n",
    "\n",
    "## 使用Tensorflow 实现CNN\n",
    "\n",
    "使用一个简单的CNN网络结构如下，括号里边表示tensor经过本层后的输出shape：\n",
    "\n",
    "- 输入层（28 x 28 x 1）\n",
    "- 卷积层1（28 x 28 x 32）\n",
    "- pooling层1（14 x 14 x 32）\n",
    "- 卷积层2（14 x 14 x 64）\n",
    "- pooling层2（7 x 7 x 64）\n",
    "- 全连接层（1 x 1024）\n",
    "- softmax层（10）\n"
   ]
  },
  {
   "cell_type": "code",
   "execution_count": 1,
   "metadata": {},
   "outputs": [],
   "source": [
    "\"\"\"Functions for downloading and reading MNIST data.\"\"\"\n",
    "from __future__ import absolute_import\n",
    "from __future__ import division\n",
    "from __future__ import print_function\n",
    "\n",
    "# pylint: disable=unused-import\n",
    "import gzip\n",
    "import os\n",
    "import tempfile\n",
    "\n",
    "import numpy\n",
    "from six.moves import urllib\n",
    "from six.moves import xrange  # pylint: disable=redefined-builtin\n",
    "import tensorflow as tf\n",
    "from tensorflow.contrib.learn.python.learn.datasets.mnist import read_data_sets\n",
    "# pylint: enable=unused-import"
   ]
  },
  {
   "cell_type": "code",
   "execution_count": 2,
   "metadata": {},
   "outputs": [
    {
     "ename": "ModuleNotFoundError",
     "evalue": "No module named 'MNIST_data'",
     "output_type": "error",
     "traceback": [
      "\u001b[0;31m---------------------------------------------------------------------------\u001b[0m",
      "\u001b[0;31mModuleNotFoundError\u001b[0m                       Traceback (most recent call last)",
      "\u001b[0;32m<ipython-input-2-961252fdfd22>\u001b[0m in \u001b[0;36m<module>\u001b[0;34m()\u001b[0m\n\u001b[1;32m      1\u001b[0m \u001b[0;31m#coding:utf-8\u001b[0m\u001b[0;34m\u001b[0m\u001b[0;34m\u001b[0m\u001b[0m\n\u001b[0;32m----> 2\u001b[0;31m \u001b[0;32mimport\u001b[0m \u001b[0mMNIST_data\u001b[0m\u001b[0;34m.\u001b[0m\u001b[0minput_data\u001b[0m \u001b[0;32mas\u001b[0m \u001b[0minput_data\u001b[0m\u001b[0;34m\u001b[0m\u001b[0m\n\u001b[0m\u001b[1;32m      3\u001b[0m \u001b[0;32mimport\u001b[0m \u001b[0mtime\u001b[0m\u001b[0;34m\u001b[0m\u001b[0m\n\u001b[1;32m      4\u001b[0m \u001b[0;34m\u001b[0m\u001b[0m\n\u001b[1;32m      5\u001b[0m \"\"\"\n",
      "\u001b[0;31mModuleNotFoundError\u001b[0m: No module named 'MNIST_data'"
     ]
    }
   ],
   "source": [
    "#coding:utf-8\n",
    "import MNIST_data.input_data as input_data\n",
    "import time\n",
    "\n",
    "\"\"\"\n",
    "权重初始化\n",
    "初始化为一个接近0的很小的正数\n",
    "\"\"\"\n",
    "def weight_variable(shape):\n",
    "    initial = tf.truncated_normal(shape, stddev = 0.1)\n",
    "    return tf.Variable(initial)\n",
    "\n",
    "def bias_variable(shape):\n",
    "    initial = tf.constant(0.1, shape = shape)\n",
    "    return tf.Variable(initial)\n",
    "\n",
    "\"\"\"\n",
    "卷积和池化，使用卷积步长为1（stride size）,0边距（padding size）\n",
    "池化用简单传统的2x2大小的模板做max pooling\n",
    "\"\"\"\n",
    "def conv2d(x, W):\n",
    "    return tf.nn.conv2d(x, W, strides=[1, 1, 1, 1], padding = 'SAME')\n",
    "    # tf.nn.conv2d(input, filter, strides, padding, use_cudnn_on_gpu=None, data_format=None, name=None)\n",
    "    # x(input)  : [batch, in_height, in_width, in_channels]\n",
    "    # W(filter) : [filter_height, filter_width, in_channels, out_channels]\n",
    "    # strides   : The stride of the sliding window for each dimension of input.\n",
    "    #             For the most common case of the same horizontal and vertices strides, strides = [1, stride, stride, 1]\n",
    "\n",
    "def max_pool_2x2(x):\n",
    "    return tf.nn.max_pool(x, ksize = [1, 2, 2, 1],\n",
    "                          strides = [1, 2, 2, 1], padding = 'SAME')\n",
    "    # tf.nn.max_pool(value, ksize, strides, padding, data_format='NHWC', name=None)\n",
    "    # x(value)              : [batch, height, width, channels]\n",
    "    # ksize(pool大小)        : A list of ints that has length >= 4. The size of the window for each dimension of the input tensor.\n",
    "    # strides(pool滑动大小)   : A list of ints that has length >= 4. The stride of the sliding window for each dimension of the input tensor.\n",
    "\n",
    "start = time.clock() #计算开始时间\n",
    "mnist = input_data.read_data_sets(\"MNIST_data/\", one_hot=True) #MNIST数据输入\n",
    "\n",
    "\"\"\"\n",
    "第一层 卷积层\n",
    "\n",
    "x_image(batch, 28, 28, 1) -> h_pool1(batch, 14, 14, 32)\n",
    "\"\"\"\n",
    "x = tf.placeholder(tf.float32,[None, 784])\n",
    "x_image = tf.reshape(x, [-1, 28, 28, 1]) #最后一维代表通道数目，如果是rgb则为3 \n",
    "W_conv1 = weight_variable([5, 5, 1, 32])\n",
    "b_conv1 = bias_variable([32])\n",
    "\n",
    "h_conv1 = tf.nn.relu(conv2d(x_image, W_conv1) + b_conv1)\n",
    "# x_image -> [batch, in_height, in_width, in_channels]\n",
    "#            [batch, 28, 28, 1]\n",
    "# W_conv1 -> [filter_height, filter_width, in_channels, out_channels]\n",
    "#            [5, 5, 1, 32]\n",
    "# output  -> [batch, out_height, out_width, out_channels]\n",
    "#            [batch, 28, 28, 32]\n",
    "h_pool1 = max_pool_2x2(h_conv1)\n",
    "# h_conv1 -> [batch, in_height, in_weight, in_channels]\n",
    "#            [batch, 28, 28, 32]\n",
    "# output  -> [batch, out_height, out_weight, out_channels]\n",
    "#            [batch, 14, 14, 32]\n",
    "\n",
    "\"\"\"\n",
    "第二层 卷积层\n",
    "\n",
    "h_pool1(batch, 14, 14, 32) -> h_pool2(batch, 7, 7, 64)\n",
    "\"\"\"\n",
    "W_conv2 = weight_variable([5, 5, 32, 64])\n",
    "b_conv2 = bias_variable([64])\n",
    "\n",
    "h_conv2 = tf.nn.relu(conv2d(h_pool1, W_conv2) + b_conv2)\n",
    "# h_pool1 -> [batch, 14, 14, 32]\n",
    "# W_conv2 -> [5, 5, 32, 64]\n",
    "# output  -> [batch, 14, 14, 64]\n",
    "h_pool2 = max_pool_2x2(h_conv2)\n",
    "# h_conv2 -> [batch, 14, 14, 64]\n",
    "# output  -> [batch, 7, 7, 64]\n",
    "\n",
    "\"\"\"\n",
    "第三层 全连接层\n",
    "\n",
    "h_pool2(batch, 7, 7, 64) -> h_fc1(1, 1024)\n",
    "\"\"\"\n",
    "W_fc1 = weight_variable([7 * 7 * 64, 1024])\n",
    "b_fc1 = bias_variable([1024])\n",
    "\n",
    "h_pool2_flat = tf.reshape(h_pool2, [-1, 7 * 7 * 64])\n",
    "h_fc1 = tf.nn.relu(tf.matmul(h_pool2_flat, W_fc1) + b_fc1)\n",
    "\n",
    "\"\"\"\n",
    "Dropout\n",
    "\n",
    "h_fc1 -> h_fc1_drop, 训练中启用，测试中关闭\n",
    "\"\"\"\n",
    "keep_prob = tf.placeholder(\"float\")\n",
    "h_fc1_drop = tf.nn.dropout(h_fc1, keep_prob)\n",
    "\n",
    "\"\"\"\n",
    "第四层 Softmax输出层\n",
    "\"\"\"\n",
    "W_fc2 = weight_variable([1024, 10])\n",
    "b_fc2 = bias_variable([10])\n",
    "\n",
    "y_conv = tf.nn.softmax(tf.matmul(h_fc1_drop, W_fc2) + b_fc2)\n",
    "\n",
    "\"\"\"\n",
    "训练和评估模型\n",
    "\n",
    "ADAM优化器来做梯度最速下降,feed_dict中加入参数keep_prob控制dropout比例\n",
    "\"\"\"\n",
    "y_ = tf.placeholder(\"float\", [None, 10])\n",
    "cross_entropy = -tf.reduce_sum(y_ * tf.log(y_conv)) #计算交叉熵\n",
    "train_step = tf.train.AdamOptimizer(1e-4).minimize(cross_entropy) #使用adam优化器来以0.0001的学习率来进行微调\n",
    "correct_prediction = tf.equal(tf.argmax(y_conv,1), tf.argmax(y_,1)) #判断预测标签和实际标签是否匹配\n",
    "accuracy = tf.reduce_mean(tf.cast(correct_prediction,\"float\"))\n",
    "\n",
    "sess = tf.Session() #启动创建的模型\n",
    "sess.run(tf.initialize_all_variables()) #旧版本\n",
    "#sess.run(tf.global_variables_initializer()) #初始化变量\n",
    "\n",
    "for i in range(5000): #开始训练模型，循环训练5000次\n",
    "    batch = mnist.train.next_batch(50) #batch大小设置为50\n",
    "    if i % 100 == 0:\n",
    "        train_accuracy = accuracy.eval(session = sess,\n",
    "                                       feed_dict = {x:batch[0], y_:batch[1], keep_prob:1.0})\n",
    "        print(\"step %d, train_accuracy %g\" %(i, train_accuracy))\n",
    "    train_step.run(session = sess, feed_dict = {x:batch[0], y_:batch[1],\n",
    "                   keep_prob:0.5}) #神经元输出保持不变的概率 keep_prob 为0.5\n",
    "\n",
    "print(\"test accuracy %g\" %accuracy.eval(session = sess,\n",
    "      feed_dict = {x:mnist.test.images, y_:mnist.test.labels,\n",
    "                   keep_prob:1.0})) #神经元输出保持不变的概率 keep_prob 为 1，即不变，一直保持输出\n",
    "\n",
    "end = time.clock() #计算程序结束时间\n",
    "print(\"running time is %g s\") % (end-start)"
   ]
  },
  {
   "cell_type": "markdown",
   "metadata": {},
   "source": [
    "## 通过搭建卷积神经网络来实现sklearn库中的手写数字识别，搭建的卷积神经网络结构如下图所示：\n",
    "![CNN_8.png](CNN_8.png)"
   ]
  },
  {
   "cell_type": "code",
   "execution_count": 35,
   "metadata": {},
   "outputs": [],
   "source": [
    "import tensorflow as tf\n",
    "\n",
    "from sklearn.datasets import load_digits\n",
    "import numpy as np"
   ]
  },
  {
   "cell_type": "code",
   "execution_count": 36,
   "metadata": {},
   "outputs": [
    {
     "name": "stdout",
     "output_type": "stream",
     "text": [
      "(1797, 64)\n",
      "(1797, 1)\n"
     ]
    }
   ],
   "source": [
    "# load traing data \n",
    "digits = load_digits()\n",
    "X_data = digits.data.astype(np.float32)\n",
    "Y_data = digits.target.astype(np.float32).reshape(-1,1)\n",
    "print(X_data.shape)\n",
    "print(Y_data.shape)"
   ]
  },
  {
   "cell_type": "code",
   "execution_count": 37,
   "metadata": {},
   "outputs": [],
   "source": [
    "from sklearn.preprocessing import MinMaxScaler\n",
    "\n",
    "scaler = MinMaxScaler()\n",
    "X_data = scaler.fit_transform(X_data)"
   ]
  },
  {
   "cell_type": "code",
   "execution_count": 38,
   "metadata": {},
   "outputs": [
    {
     "data": {
      "text/plain": [
       "array([[0.    , 0.    , 0.3125, ..., 0.    , 0.    , 0.    ],\n",
       "       [0.    , 0.    , 0.    , ..., 0.625 , 0.    , 0.    ],\n",
       "       [0.    , 0.    , 0.    , ..., 1.    , 0.5625, 0.    ],\n",
       "       ...,\n",
       "       [0.    , 0.    , 0.0625, ..., 0.375 , 0.    , 0.    ],\n",
       "       [0.    , 0.    , 0.125 , ..., 0.75  , 0.    , 0.    ],\n",
       "       [0.    , 0.    , 0.625 , ..., 0.75  , 0.0625, 0.    ]],\n",
       "      dtype=float32)"
      ]
     },
     "execution_count": 38,
     "metadata": {},
     "output_type": "execute_result"
    }
   ],
   "source": [
    "X_data"
   ]
  },
  {
   "cell_type": "code",
   "execution_count": 39,
   "metadata": {},
   "outputs": [],
   "source": [
    "from sklearn.preprocessing import OneHotEncoder\n",
    "Y = OneHotEncoder().fit_transform(Y_data).todense() #one-hot编码"
   ]
  },
  {
   "cell_type": "code",
   "execution_count": 40,
   "metadata": {},
   "outputs": [
    {
     "data": {
      "text/plain": [
       "matrix([[1., 0., 0., ..., 0., 0., 0.],\n",
       "        [0., 1., 0., ..., 0., 0., 0.],\n",
       "        [0., 0., 1., ..., 0., 0., 0.],\n",
       "        ...,\n",
       "        [0., 0., 0., ..., 0., 1., 0.],\n",
       "        [0., 0., 0., ..., 0., 0., 1.],\n",
       "        [0., 0., 0., ..., 0., 1., 0.]])"
      ]
     },
     "execution_count": 40,
     "metadata": {},
     "output_type": "execute_result"
    }
   ],
   "source": [
    "Y"
   ]
  },
  {
   "cell_type": "code",
   "execution_count": 41,
   "metadata": {},
   "outputs": [],
   "source": [
    "# 转换为图片的格式 （batch，height，width，channels）\n",
    "X = X_data.reshape(-1,8,8,1)"
   ]
  },
  {
   "cell_type": "code",
   "execution_count": 42,
   "metadata": {},
   "outputs": [],
   "source": [
    "batch_size = 8 # 使用MBGD算法，设定batch_size为8"
   ]
  },
  {
   "cell_type": "code",
   "execution_count": 43,
   "metadata": {},
   "outputs": [],
   "source": [
    "def generatebatch(X,Y,n_examples, batch_size):\n",
    "    for batch_i in range(n_examples // batch_size):\n",
    "        start = batch_i*batch_size\n",
    "        end = start + batch_size\n",
    "        batch_xs = X[start:end]\n",
    "        batch_ys = Y[start:end]\n",
    "        yield batch_xs, batch_ys # 生成每一个batch"
   ]
  },
  {
   "cell_type": "code",
   "execution_count": 44,
   "metadata": {},
   "outputs": [],
   "source": [
    "tf.reset_default_graph()\n",
    "# 输入层\n",
    "tf_X = tf.placeholder(tf.float32,[None,8,8,1])\n",
    "tf_Y = tf.placeholder(tf.float32,[None,10])"
   ]
  },
  {
   "cell_type": "code",
   "execution_count": 45,
   "metadata": {},
   "outputs": [],
   "source": [
    "# 卷积层+激活层\n",
    "conv_filter_w1 = tf.Variable(tf.random_normal([3, 3, 1, 10]))\n",
    "conv_filter_b1 =  tf.Variable(tf.random_normal([10]))\n",
    "relu_feature_maps1 = tf.nn.relu(\\\n",
    "                tf.nn.conv2d(tf_X, conv_filter_w1,strides=[1, 1, 1, 1], padding='SAME') + conv_filter_b1)"
   ]
  },
  {
   "cell_type": "code",
   "execution_count": 46,
   "metadata": {},
   "outputs": [
    {
     "name": "stdout",
     "output_type": "stream",
     "text": [
      "Tensor(\"MaxPool:0\", shape=(?, 4, 4, 10), dtype=float32)\n"
     ]
    }
   ],
   "source": [
    "# 池化层\n",
    "max_pool1 = tf.nn.max_pool(relu_feature_maps1,ksize=[1,3,3,1],strides=[1,2,2,1],padding='SAME')\n",
    "\n",
    "print(max_pool1)"
   ]
  },
  {
   "cell_type": "code",
   "execution_count": 47,
   "metadata": {},
   "outputs": [
    {
     "name": "stdout",
     "output_type": "stream",
     "text": [
      "Tensor(\"add_1:0\", shape=(?, 4, 4, 5), dtype=float32)\n"
     ]
    }
   ],
   "source": [
    "# 卷积层\n",
    "conv_filter_w2 = tf.Variable(tf.random_normal([3, 3, 10, 5]))\n",
    "conv_filter_b2 =  tf.Variable(tf.random_normal([5]))\n",
    "conv_out2 = tf.nn.conv2d(relu_feature_maps1, conv_filter_w2,strides=[1, 2, 2, 1], padding='SAME') + conv_filter_b2\n",
    "print(conv_out2)"
   ]
  },
  {
   "cell_type": "code",
   "execution_count": 48,
   "metadata": {},
   "outputs": [
    {
     "name": "stdout",
     "output_type": "stream",
     "text": [
      "Tensor(\"batchnorm/add_1:0\", shape=(?, 4, 4, 5), dtype=float32)\n"
     ]
    }
   ],
   "source": [
    "# BN归一化层+激活层 \n",
    "batch_mean, batch_var = tf.nn.moments(conv_out2, [0, 1, 2], keep_dims=True)\n",
    "shift = tf.Variable(tf.zeros([5]))\n",
    "scale = tf.Variable(tf.ones([5]))\n",
    "epsilon = 1e-3\n",
    "BN_out = tf.nn.batch_normalization(conv_out2, batch_mean, batch_var, shift, scale, epsilon)\n",
    "print(BN_out)\n",
    "relu_BN_maps2 = tf.nn.relu(BN_out)"
   ]
  },
  {
   "cell_type": "code",
   "execution_count": 49,
   "metadata": {},
   "outputs": [
    {
     "name": "stdout",
     "output_type": "stream",
     "text": [
      "Tensor(\"MaxPool_1:0\", shape=(?, 2, 2, 5), dtype=float32)\n"
     ]
    }
   ],
   "source": [
    "# 池化层\n",
    "max_pool2 = tf.nn.max_pool(relu_BN_maps2,ksize=[1,3,3,1],strides=[1,2,2,1],padding='SAME')\n",
    "print(max_pool2)"
   ]
  },
  {
   "cell_type": "code",
   "execution_count": 50,
   "metadata": {},
   "outputs": [],
   "source": [
    "# 将特征图进行展开\n",
    "max_pool2_flat = tf.reshape(max_pool2, [-1, 2*2*5])"
   ]
  },
  {
   "cell_type": "code",
   "execution_count": 51,
   "metadata": {},
   "outputs": [],
   "source": [
    "# 全连接层\n",
    "fc_w1 = tf.Variable(tf.random_normal([2*2*5,50]))\n",
    "fc_b1 =  tf.Variable(tf.random_normal([50]))\n",
    "fc_out1 = tf.nn.relu(tf.matmul(max_pool2_flat, fc_w1) + fc_b1)"
   ]
  },
  {
   "cell_type": "code",
   "execution_count": 58,
   "metadata": {},
   "outputs": [],
   "source": [
    "# 输出层\n",
    "out_w1 = tf.Variable(tf.random_normal([50,10]))\n",
    "out_b1 = tf.Variable(tf.random_normal([10]))\n",
    "pred = tf.nn.softmax(tf.matmul(fc_out1,out_w1)+out_b1)"
   ]
  },
  {
   "cell_type": "code",
   "execution_count": 59,
   "metadata": {},
   "outputs": [],
   "source": [
    "loss = -tf.reduce_mean(tf_Y*tf.log(tf.clip_by_value(pred,1e-11,1.0)))"
   ]
  },
  {
   "cell_type": "code",
   "execution_count": 60,
   "metadata": {},
   "outputs": [],
   "source": [
    "train_step = tf.train.AdamOptimizer(1e-3).minimize(loss)"
   ]
  },
  {
   "cell_type": "code",
   "execution_count": 61,
   "metadata": {},
   "outputs": [],
   "source": [
    "y_pred = tf.arg_max(pred,1)\n",
    "bool_pred = tf.equal(tf.arg_max(tf_Y,1),y_pred)"
   ]
  },
  {
   "cell_type": "code",
   "execution_count": 62,
   "metadata": {},
   "outputs": [],
   "source": [
    "accuracy = tf.reduce_mean(tf.cast(bool_pred,tf.float32)) # 准确率"
   ]
  },
  {
   "cell_type": "code",
   "execution_count": 64,
   "metadata": {},
   "outputs": [
    {
     "name": "stdout",
     "output_type": "stream",
     "text": [
      "0 0.17306623\n",
      "100 0.6967167\n",
      "200 0.69894266\n",
      "300 0.6978297\n",
      "400 0.69894266\n",
      "500 0.69894266\n",
      "600 0.69894266\n",
      "700 0.69894266\n",
      "800 0.69894266\n",
      "900 0.8942682\n",
      "[0 1 2 ... 8 9 8]\n"
     ]
    }
   ],
   "source": [
    "with tf.Session() as sess:\n",
    "    sess.run(tf.global_variables_initializer())\n",
    "    for epoch in range(1000): # 迭代1000个周期\n",
    "        for batch_xs,batch_ys in generatebatch(X,Y,Y.shape[0],batch_size): # 每个周期进行MBGD算法\n",
    "            sess.run(train_step,feed_dict={tf_X:batch_xs,tf_Y:batch_ys})\n",
    "        if(epoch%100==0):\n",
    "            res = sess.run(accuracy,feed_dict={tf_X:X,tf_Y:Y})\n",
    "            print(epoch,res)\n",
    "    res_ypred = y_pred.eval(feed_dict={tf_X:X,tf_Y:Y}).flatten() # 只能预测一批样本，不能预测一个样本\n",
    "    print(res_ypred)"
   ]
  },
  {
   "cell_type": "code",
   "execution_count": 66,
   "metadata": {},
   "outputs": [
    {
     "name": "stdout",
     "output_type": "stream",
     "text": [
      "0.8953811908736784\n"
     ]
    }
   ],
   "source": [
    "from sklearn.metrics import  accuracy_score\n",
    "print(accuracy_score(Y_data,res_ypred.reshape(-1,1)))"
   ]
  },
  {
   "cell_type": "code",
   "execution_count": null,
   "metadata": {},
   "outputs": [],
   "source": []
  }
 ],
 "metadata": {
  "kernelspec": {
   "display_name": "Tensorflow Python 3",
   "language": "python",
   "name": "tensorflowpython3"
  },
  "language_info": {
   "codemirror_mode": {
    "name": "ipython",
    "version": 3
   },
   "file_extension": ".py",
   "mimetype": "text/x-python",
   "name": "python",
   "nbconvert_exporter": "python",
   "pygments_lexer": "ipython3",
   "version": "3.6.4"
  }
 },
 "nbformat": 4,
 "nbformat_minor": 2
}
