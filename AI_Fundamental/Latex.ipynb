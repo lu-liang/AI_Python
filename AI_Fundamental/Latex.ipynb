{
 "cells": [
  {
   "cell_type": "markdown",
   "metadata": {},
   "source": [
    "- https://blog.csdn.net/weixin_43145361/article/details/89531570\n",
    "- http://liyangbit.com/math/jupyter-latex/"
   ]
  },
  {
   "cell_type": "code",
   "execution_count": 1,
   "metadata": {},
   "outputs": [
    {
     "data": {
      "text/latex": [
       "$f(x) = 3x + 7$"
      ],
      "text/plain": [
       "<IPython.core.display.Latex object>"
      ]
     },
     "execution_count": 1,
     "metadata": {},
     "output_type": "execute_result"
    }
   ],
   "source": [
    "from IPython.display import Latex\n",
    "\n",
    "# 数学公式的前后要加上 $ 或 \\( 和 \\)\n",
    "Latex(r\"$f(x) = 3x + 7$\")"
   ]
  },
  {
   "cell_type": "markdown",
   "metadata": {},
   "source": [
    "---\n",
    "### In Markdown, Use \\$\\$\n",
    "---\n",
    "$$f(x) = 3x + 7$$"
   ]
  },
  {
   "cell_type": "code",
   "execution_count": 2,
   "metadata": {},
   "outputs": [
    {
     "data": {
      "text/latex": [
       "$\\sum_{i=1}^n a_i=0$"
      ],
      "text/plain": [
       "<IPython.core.display.Latex object>"
      ]
     },
     "execution_count": 2,
     "metadata": {},
     "output_type": "execute_result"
    }
   ],
   "source": [
    "# 普通字符在数学公式中含义一样，除了 # $ % & ~ _ ^ \\ { }\n",
    "# 若要在数学环境中表示这些符号# $ % & _ { }，\n",
    "# 需要分别表示为\\# \\$ \\% \\& \\_ \\{ \\}，即在个字符前加上\\\n",
    "\n",
    "# 上标和下标\n",
    "# 用 ^ 来表示上标，用 _ 来表示下标\n",
    "# 如果有多个字符做上标或下标，要用{}括起来\n",
    "Latex(r\"$\\sum_{i=1}^n a_i=0$\")"
   ]
  },
  {
   "cell_type": "markdown",
   "metadata": {},
   "source": [
    "$$\\sum_{i=1}^n a_i=0$$"
   ]
  },
  {
   "cell_type": "code",
   "execution_count": 3,
   "metadata": {},
   "outputs": [
    {
     "data": {
      "text/latex": [
       "$f(x)=x^{x^x}$"
      ],
      "text/plain": [
       "<IPython.core.display.Latex object>"
      ]
     },
     "execution_count": 3,
     "metadata": {},
     "output_type": "execute_result"
    }
   ],
   "source": [
    "Latex(r\"$f(x)=x^{x^x}$\")"
   ]
  },
  {
   "cell_type": "code",
   "execution_count": 9,
   "metadata": {},
   "outputs": [
    {
     "data": {
      "text/latex": [
       "$\\Gamma \\Delta \\Theta \\Lambda \\Xi \\Pi \\Sigma \\Upsilon$"
      ],
      "text/plain": [
       "<IPython.core.display.Latex object>"
      ]
     },
     "execution_count": 9,
     "metadata": {},
     "output_type": "execute_result"
    }
   ],
   "source": [
    "# 希腊字母\n",
    "# 大写希腊字母\n",
    "Latex(r\"$\\Gamma \\Delta \\Theta \\Lambda \\Xi \\Pi \\Sigma \\Upsilon$\")"
   ]
  },
  {
   "cell_type": "code",
   "execution_count": 8,
   "metadata": {},
   "outputs": [
    {
     "data": {
      "text/latex": [
       "$\\Phi \\Psi \\Omega$"
      ],
      "text/plain": [
       "<IPython.core.display.Latex object>"
      ]
     },
     "execution_count": 8,
     "metadata": {},
     "output_type": "execute_result"
    }
   ],
   "source": [
    "Latex(r\"$\\Phi \\Psi \\Omega$\")"
   ]
  },
  {
   "cell_type": "code",
   "execution_count": 7,
   "metadata": {},
   "outputs": [
    {
     "data": {
      "text/latex": [
       "$\\alpha \\beta \\gamma \\delta \\epsilon \\varepsilon \\zeta \\eta$"
      ],
      "text/plain": [
       "<IPython.core.display.Latex object>"
      ]
     },
     "execution_count": 7,
     "metadata": {},
     "output_type": "execute_result"
    }
   ],
   "source": [
    "# 小写希腊字母\n",
    "Latex(r\"$\\alpha \\beta \\gamma \\delta \\epsilon \\varepsilon \\zeta \\eta$\")"
   ]
  },
  {
   "cell_type": "code",
   "execution_count": 6,
   "metadata": {},
   "outputs": [
    {
     "data": {
      "text/latex": [
       "$\\theta \\vartheta \\iota \\kappa \\lambda \\mu \\nu \\xi$"
      ],
      "text/plain": [
       "<IPython.core.display.Latex object>"
      ]
     },
     "execution_count": 6,
     "metadata": {},
     "output_type": "execute_result"
    }
   ],
   "source": [
    "Latex(r\"$\\theta \\vartheta \\iota \\kappa \\lambda \\mu \\nu \\xi$\")"
   ]
  },
  {
   "cell_type": "code",
   "execution_count": 5,
   "metadata": {},
   "outputs": [
    {
     "data": {
      "text/latex": [
       "$o \\pi \\varpi \\rho \\varrho \\sigma \\varsigma \\tau$"
      ],
      "text/plain": [
       "<IPython.core.display.Latex object>"
      ]
     },
     "execution_count": 5,
     "metadata": {},
     "output_type": "execute_result"
    }
   ],
   "source": [
    "Latex(r\"$o \\pi \\varpi \\rho \\varrho \\sigma \\varsigma \\tau$\")"
   ]
  },
  {
   "cell_type": "code",
   "execution_count": 4,
   "metadata": {},
   "outputs": [
    {
     "data": {
      "text/latex": [
       "$\\upsilon \\phi \\varphi \\chi \\psi \\omega$"
      ],
      "text/plain": [
       "<IPython.core.display.Latex object>"
      ]
     },
     "execution_count": 4,
     "metadata": {},
     "output_type": "execute_result"
    }
   ],
   "source": [
    "Latex(r\"$\\upsilon \\phi \\varphi \\chi \\psi \\omega$\")"
   ]
  },
  {
   "cell_type": "code",
   "execution_count": 10,
   "metadata": {},
   "outputs": [
    {
     "data": {
      "text/latex": [
       "$\\sum \\prod \\coprod \\int \\iint \\iiint \\oint$"
      ],
      "text/plain": [
       "<IPython.core.display.Latex object>"
      ]
     },
     "execution_count": 10,
     "metadata": {},
     "output_type": "execute_result"
    }
   ],
   "source": [
    "# 大尺寸运算符\n",
    "Latex(r\"$\\sum \\prod \\coprod \\int \\iint \\iiint \\oint$\")"
   ]
  },
  {
   "cell_type": "code",
   "execution_count": 11,
   "metadata": {},
   "outputs": [
    {
     "data": {
      "text/latex": [
       "$ \\bigvee \\bigwedge \\bigoplus \\bigotimes \\bigodot \\biguplus$"
      ],
      "text/plain": [
       "<IPython.core.display.Latex object>"
      ]
     },
     "execution_count": 11,
     "metadata": {},
     "output_type": "execute_result"
    }
   ],
   "source": [
    "Latex(r\"$ \\bigvee \\bigwedge \\bigoplus \\bigotimes \\bigodot \\biguplus$\")"
   ]
  },
  {
   "cell_type": "code",
   "execution_count": 12,
   "metadata": {},
   "outputs": [
    {
     "data": {
      "text/latex": [
       "$\\leftarrow \\rightarrow \\Leftarrow \\Rightarrow \\uparrow \\downarrow$"
      ],
      "text/plain": [
       "<IPython.core.display.Latex object>"
      ]
     },
     "execution_count": 12,
     "metadata": {},
     "output_type": "execute_result"
    }
   ],
   "source": [
    "# 箭头\n",
    "Latex(r\"$\\leftarrow \\rightarrow \\Leftarrow \\Rightarrow \\uparrow \\downarrow$\")"
   ]
  },
  {
   "cell_type": "code",
   "execution_count": 13,
   "metadata": {},
   "outputs": [
    {
     "data": {
      "text/latex": [
       "$\\nearrow \\searrow \\swarrow \\nwarrow \\leadsto$"
      ],
      "text/plain": [
       "<IPython.core.display.Latex object>"
      ]
     },
     "execution_count": 13,
     "metadata": {},
     "output_type": "execute_result"
    }
   ],
   "source": [
    "Latex(r\"$\\nearrow \\searrow \\swarrow \\nwarrow \\leadsto$\")"
   ]
  },
  {
   "cell_type": "code",
   "execution_count": 14,
   "metadata": {},
   "outputs": [
    {
     "data": {
      "text/latex": [
       "$ \\iff \\rightleftharpoons$"
      ],
      "text/plain": [
       "<IPython.core.display.Latex object>"
      ]
     },
     "execution_count": 14,
     "metadata": {},
     "output_type": "execute_result"
    }
   ],
   "source": [
    "Latex(r\"$ \\iff \\rightleftharpoons$\")"
   ]
  },
  {
   "cell_type": "code",
   "execution_count": 15,
   "metadata": {},
   "outputs": [
    {
     "data": {
      "text/latex": [
       "$\\mbox{对任意的$x>0$}, \\mbox{有 }f(x)>0. $"
      ],
      "text/plain": [
       "<IPython.core.display.Latex object>"
      ]
     },
     "execution_count": 15,
     "metadata": {},
     "output_type": "execute_result"
    }
   ],
   "source": [
    "# 在公式中插入文本可以通过 \\mbox{text} 在公式中添加text\n",
    "Latex(r\"$\\mbox{对任意的$x>0$}, \\mbox{有 }f(x)>0. $\")"
   ]
  },
  {
   "cell_type": "code",
   "execution_count": 27,
   "metadata": {},
   "outputs": [
    {
     "data": {
      "text/latex": [
       "$\\frac{7x+5}{1+y^2} \\sqrt{x^2+y^2} \\sqrt[n]{x^n+y^n}$"
      ],
      "text/plain": [
       "<IPython.core.display.Latex object>"
      ]
     },
     "execution_count": 27,
     "metadata": {},
     "output_type": "execute_result"
    }
   ],
   "source": [
    "# 分数及开方\n",
    "# \\frac{numerator}{denominator} \\sqrt{expression_r_r_r}表示开平方，\n",
    "# \\sqrt[n]{expression_r_r_r} 表示开 n 次方\n",
    "Latex(r\"$\\frac{7x+5}{1+y^2} \\sqrt{x^2+y^2} \\sqrt[n]{x^n+y^n}$\")\n"
   ]
  },
  {
   "cell_type": "code",
   "execution_count": 29,
   "metadata": {},
   "outputs": [
    {
     "data": {
      "text/latex": [
       "\\[ \\int_0^1 \\! \\int_0^1 x^2 y^2\\,dx\\,dy.\\]"
      ],
      "text/plain": [
       "<IPython.core.display.Latex object>"
      ]
     },
     "execution_count": 29,
     "metadata": {},
     "output_type": "execute_result"
    }
   ],
   "source": [
    "# The way to improve the appearance of \n",
    "# of the integral is to use the control sequence \\! \n",
    "# to remove a thin strip of unwanted space\n",
    "Latex(r\"\\[ \\int_0^1 \\! \\int_0^1 x^2 y^2\\,dx\\,dy.\\]\")"
   ]
  },
  {
   "cell_type": "code",
   "execution_count": 28,
   "metadata": {},
   "outputs": [
    {
     "data": {
      "text/latex": [
       "\\[ \\int_0^1 \\int_0^1 x^2 y^2\\,dx\\,dy.\\]"
      ],
      "text/plain": [
       "<IPython.core.display.Latex object>"
      ]
     },
     "execution_count": 28,
     "metadata": {},
     "output_type": "execute_result"
    }
   ],
   "source": [
    "Latex(r\"\\[ \\int_0^1 \\int_0^1 x^2 y^2\\,dx\\,dy.\\]\")"
   ]
  },
  {
   "cell_type": "code",
   "execution_count": 18,
   "metadata": {},
   "outputs": [
    {
     "data": {
      "text/latex": [
       "\\[ \\int_0^R \\frac{2x\\,dx}{1+x^2} = \\log(1+R^2).\\]"
      ],
      "text/plain": [
       "<IPython.core.display.Latex object>"
      ]
     },
     "execution_count": 18,
     "metadata": {},
     "output_type": "execute_result"
    }
   ],
   "source": [
    "# 积分\n",
    "# To obtain the correct appearance one \n",
    "# should put extra space before the d, using \\,\n",
    "Latex(r\"\\[ \\int_a^b f(x)\\,dx.\\]\")\n"
   ]
  },
  {
   "cell_type": "code",
   "execution_count": 33,
   "metadata": {},
   "outputs": [
    {
     "data": {
      "text/latex": [
       "\\[ \\int_0^{+\\infty} x^n e^{-x} \\,dx = n!.\\]"
      ],
      "text/plain": [
       "<IPython.core.display.Latex object>"
      ]
     },
     "execution_count": 33,
     "metadata": {},
     "output_type": "execute_result"
    }
   ],
   "source": [
    "Latex(r\"\\[ \\int_0^{+\\infty} x^n e^{-x} \\,dx = n!.\\]\")"
   ]
  },
  {
   "cell_type": "code",
   "execution_count": 32,
   "metadata": {},
   "outputs": [
    {
     "data": {
      "text/latex": [
       "\\[ \\int \\cos \\theta \\,d\\theta = \\sin \\theta.\\]"
      ],
      "text/plain": [
       "<IPython.core.display.Latex object>"
      ]
     },
     "execution_count": 32,
     "metadata": {},
     "output_type": "execute_result"
    }
   ],
   "source": [
    "Latex(r\"\\[ \\int \\cos \\theta \\,d\\theta = \\sin \\theta.\\]\")"
   ]
  },
  {
   "cell_type": "code",
   "execution_count": 31,
   "metadata": {},
   "outputs": [
    {
     "data": {
      "text/latex": [
       "\\[ \\int_{x^2 + y^2 \\leq R^2} f(x,y)\\,dx\\,dy\n",
       "= \\int_{\\theta=0}^{2\\pi} \\int_{r=0}^R\n",
       "f(r\\cos\\theta,r\\sin\\theta) r\\,dr\\,d\\theta.\\]"
      ],
      "text/plain": [
       "<IPython.core.display.Latex object>"
      ]
     },
     "execution_count": 31,
     "metadata": {},
     "output_type": "execute_result"
    }
   ],
   "source": [
    "Latex(r\"\"\"\\[ \\int_{x^2 + y^2 \\leq R^2} f(x,y)\\,dx\\,dy\n",
    "= \\int_{\\theta=0}^{2\\pi} \\int_{r=0}^R\n",
    "f(r\\cos\\theta,r\\sin\\theta) r\\,dr\\,d\\theta.\\]\"\"\")"
   ]
  },
  {
   "cell_type": "code",
   "execution_count": 30,
   "metadata": {},
   "outputs": [
    {
     "data": {
      "text/latex": [
       "\\[ \\int_0^R \\frac{2x\\,dx}{1+x^2} = \\log(1+R^2).\\]"
      ],
      "text/plain": [
       "<IPython.core.display.Latex object>"
      ]
     },
     "execution_count": 30,
     "metadata": {},
     "output_type": "execute_result"
    }
   ],
   "source": [
    "Latex(r\"\\[ \\int_0^R \\frac{2x\\,dx}{1+x^2} = \\log(1+R^2).\\]\")"
   ]
  },
  {
   "cell_type": "code",
   "execution_count": 17,
   "metadata": {},
   "outputs": [
    {
     "data": {
      "text/latex": [
       "\\[ \\sum_{k=1}^n k^2 = \\frac{1}{2} n (n+1).\\]"
      ],
      "text/plain": [
       "<IPython.core.display.Latex object>"
      ]
     },
     "execution_count": 17,
     "metadata": {},
     "output_type": "execute_result"
    }
   ],
   "source": [
    "# 求和\n",
    "Latex(r\"\\[ \\sum_{k=1}^n k^2 = \\frac{1}{2} n (n+1).\\]\")"
   ]
  },
  {
   "cell_type": "code",
   "execution_count": 16,
   "metadata": {},
   "outputs": [
    {
     "data": {
      "text/latex": [
       "\\[ \\lim_{x \\to 0} \\frac{3x^2 +7x^3}{x^2 +5x^4} = 3.\\]"
      ],
      "text/plain": [
       "<IPython.core.display.Latex object>"
      ]
     },
     "execution_count": 16,
     "metadata": {},
     "output_type": "execute_result"
    }
   ],
   "source": [
    "# 极限\n",
    "Latex(r\"\\[ \\lim_{x \\to 0} \\frac{3x^2 +7x^3}{x^2 +5x^4} = 3.\\]\")"
   ]
  },
  {
   "cell_type": "code",
   "execution_count": 26,
   "metadata": {},
   "outputs": [
    {
     "data": {
      "text/latex": [
       "$ f(x_1,x_x,\\ldots,x_n)=x_1^2+x_2^2+\\cdots+x_n^2 $"
      ],
      "text/plain": [
       "<IPython.core.display.Latex object>"
      ]
     },
     "execution_count": 26,
     "metadata": {},
     "output_type": "execute_result"
    }
   ],
   "source": [
    "# 省略号（3个点）\n",
    "# \\ldots 表示跟文本底线对齐的省略号；\\cdots 表示跟文本中线对齐的省略号\n",
    "Latex(r\"$ f(x_1,x_x,\\ldots,x_n)=x_1^2+x_2^2+\\cdots+x_n^2 $\")"
   ]
  },
  {
   "cell_type": "code",
   "execution_count": 25,
   "metadata": {},
   "outputs": [
    {
     "data": {
      "text/latex": [
       "$f(x,y,z)=3y^2z\\left(3+\\frac{7x+5}{1+y^2}\\right). $"
      ],
      "text/plain": [
       "<IPython.core.display.Latex object>"
      ]
     },
     "execution_count": 25,
     "metadata": {},
     "output_type": "execute_result"
    }
   ],
   "source": [
    "# 括号和分隔符\n",
    "#() 和 [ ] 和 ｜ 对应于自己；\n",
    "#{} 对应于 \\{ \\}；\n",
    "#|| 对应于 \\|。\n",
    "#当要显示大号的括号或分隔符时，要对应用 \\left 和 \\right\n",
    "Latex(r\"$f(x,y,z)=3y^2z\\left(3+\\frac{7x+5}{1+y^2}\\right). $\")"
   ]
  },
  {
   "cell_type": "code",
   "execution_count": 24,
   "metadata": {},
   "outputs": [
    {
     "data": {
      "text/latex": [
       "$\\left. \\frac{du}{dx} \\right|_{x=0}.$"
      ],
      "text/plain": [
       "<IPython.core.display.Latex object>"
      ]
     },
     "execution_count": 24,
     "metadata": {},
     "output_type": "execute_result"
    }
   ],
   "source": [
    "# \\left. 和 \\right. 只用与匹配，本身是不显示的\n",
    "Latex(r\"$\\left. \\frac{du}{dx} \\right|_{x=0}.$\")"
   ]
  },
  {
   "cell_type": "code",
   "execution_count": 23,
   "metadata": {},
   "outputs": [
    {
     "data": {
      "text/latex": [
       "\\begin{eqnarray*}\n",
       "\\cos 2\\theta & = & \\cos^2 \\theta - \\sin^2 \\theta \\\\\n",
       "& = & 2 \\cos^2 \\theta - 1.\n",
       "\\end{eqnarray*}"
      ],
      "text/plain": [
       "<IPython.core.display.Latex object>"
      ]
     },
     "execution_count": 23,
     "metadata": {},
     "output_type": "execute_result"
    }
   ],
   "source": [
    "# 多行的数学公式\n",
    "# 其中&是对其点，表示在此对齐。\n",
    "# *使latex不自动显示序号，如果想让latex自动标上序号，则把*去掉\n",
    "Latex(r\"\"\"\\begin{eqnarray*}\n",
    "\\cos 2\\theta & = & \\cos^2 \\theta - \\sin^2 \\theta \\\\\n",
    "& = & 2 \\cos^2 \\theta - 1.\n",
    "\\end{eqnarray*}\"\"\")"
   ]
  },
  {
   "cell_type": "code",
   "execution_count": 22,
   "metadata": {},
   "outputs": [
    {
     "data": {
      "text/latex": [
       "The \\emph{characteristic polynomial} $\\chi(\\lambda)$ of the\n",
       "$3 \\times 3$~matrix\n",
       "\\[ \\left( \\begin{array}{ccc}\n",
       "a & b & c \\\\\n",
       "d & e & f \\\\\n",
       "g & h & i \\end{array} \\right)\\]\n",
       "is given by the formula\n",
       "\\[ \\chi(\\lambda) = \\left| \\begin{array}{ccc}\n",
       "\\lambda - a & -b & -c \\\\\n",
       "-d & \\lambda - e & -f \\\\\n",
       "-g & -h & \\lambda - i \\end{array} \\right|.\\]"
      ],
      "text/plain": [
       "<IPython.core.display.Latex object>"
      ]
     },
     "execution_count": 22,
     "metadata": {},
     "output_type": "execute_result"
    }
   ],
   "source": [
    "# 矩阵\n",
    "# c表示向中对齐，l表示向左对齐，r表示向右对齐\n",
    "Latex(r\"\"\"The \\emph{characteristic polynomial} $\\chi(\\lambda)$ of the\n",
    "$3 \\times 3$~matrix\n",
    "\\[ \\left( \\begin{array}{ccc}\n",
    "a & b & c \\\\\n",
    "d & e & f \\\\\n",
    "g & h & i \\end{array} \\right)\\]\n",
    "is given by the formula\n",
    "\\[ \\chi(\\lambda) = \\left| \\begin{array}{ccc}\n",
    "\\lambda - a & -b & -c \\\\\n",
    "-d & \\lambda - e & -f \\\\\n",
    "-g & -h & \\lambda - i \\end{array} \\right|.\\]\"\"\")"
   ]
  },
  {
   "cell_type": "code",
   "execution_count": 21,
   "metadata": {},
   "outputs": [
    {
     "data": {
      "text/latex": [
       "$\\frac{du}{dt} and \\frac{d^2 u}{dx^2}$"
      ],
      "text/plain": [
       "<IPython.core.display.Latex object>"
      ]
     },
     "execution_count": 21,
     "metadata": {},
     "output_type": "execute_result"
    }
   ],
   "source": [
    "\n",
    "# 导数、极限、求和、积分\n",
    "Latex(r\"$\\frac{du}{dt} and \\frac{d^2 u}{dx^2}$\")"
   ]
  },
  {
   "cell_type": "code",
   "execution_count": 20,
   "metadata": {},
   "outputs": [
    {
     "data": {
      "text/latex": [
       "\\[ \\frac{\\partial u}{\\partial t}\n",
       "= h^2 \\left( \\frac{\\partial^2 u}{\\partial x^2}\n",
       "+ \\frac{\\partial^2 u}{\\partial y^2}\n",
       "+ \\frac{\\partial^2 u}{\\partial z^2}\\right)\\]"
      ],
      "text/plain": [
       "<IPython.core.display.Latex object>"
      ]
     },
     "execution_count": 20,
     "metadata": {},
     "output_type": "execute_result"
    }
   ],
   "source": [
    "# 偏导数\n",
    "Latex(r\"\"\"\\[ \\frac{\\partial u}{\\partial t}\n",
    "= h^2 \\left( \\frac{\\partial^2 u}{\\partial x^2}\n",
    "+ \\frac{\\partial^2 u}{\\partial y^2}\n",
    "+ \\frac{\\partial^2 u}{\\partial z^2}\\right)\\]\"\"\")"
   ]
  },
  {
   "cell_type": "code",
   "execution_count": 19,
   "metadata": {},
   "outputs": [
    {
     "data": {
      "text/latex": [
       "$\\lim_{x \\to +\\infty}, \\inf_{x > s}$"
      ],
      "text/plain": [
       "<IPython.core.display.Latex object>"
      ]
     },
     "execution_count": 19,
     "metadata": {},
     "output_type": "execute_result"
    }
   ],
   "source": [
    "Latex(r\"$\\lim_{x \\to +\\infty}, \\inf_{x > s}$\")"
   ]
  },
  {
   "cell_type": "code",
   "execution_count": null,
   "metadata": {},
   "outputs": [],
   "source": []
  }
 ],
 "metadata": {
  "kernelspec": {
   "display_name": "Python 3",
   "language": "python",
   "name": "python3"
  },
  "language_info": {
   "codemirror_mode": {
    "name": "ipython",
    "version": 3
   },
   "file_extension": ".py",
   "mimetype": "text/x-python",
   "name": "python",
   "nbconvert_exporter": "python",
   "pygments_lexer": "ipython3",
   "version": "3.7.3"
  }
 },
 "nbformat": 4,
 "nbformat_minor": 2
}
